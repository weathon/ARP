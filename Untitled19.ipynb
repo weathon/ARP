{
  "nbformat": 4,
  "nbformat_minor": 0,
  "metadata": {
    "colab": {
      "name": "Untitled19.ipynb",
      "provenance": [],
      "collapsed_sections": [],
      "authorship_tag": "ABX9TyNDiu2bifjHCpVJcbrvA26n",
      "include_colab_link": true
    },
    "kernelspec": {
      "name": "python3",
      "display_name": "Python 3"
    },
    "language_info": {
      "name": "python"
    },
    "accelerator": "GPU"
  },
  "cells": [
    {
      "cell_type": "markdown",
      "metadata": {
        "id": "view-in-github",
        "colab_type": "text"
      },
      "source": [
        "<a href=\"https://colab.research.google.com/github/weathon/ARP/blob/master/Untitled19.ipynb\" target=\"_parent\"><img src=\"https://colab.research.google.com/assets/colab-badge.svg\" alt=\"Open In Colab\"/></a>"
      ]
    },
    {
      "cell_type": "code",
      "execution_count": 16,
      "metadata": {
        "id": "SmSsQZYZRfN_"
      },
      "outputs": [],
      "source": [
        "import tensorflow as tf\n",
        "\n",
        "import os\n",
        "import tensorflow_datasets as tfds\n",
        "import numpy as np\n",
        "from PIL import Image\n",
        "\n",
        "import matplotlib.pyplot as plt\n",
        "import matplotlib.patches as patches"
      ]
    },
    {
      "cell_type": "code",
      "source": [
        "# We used the dataset from https://github.com/toppev/is-pineapple-pizza but code our own project"
      ],
      "metadata": {
        "id": "21ZxfwbpTgNc"
      },
      "execution_count": null,
      "outputs": []
    },
    {
      "cell_type": "code",
      "source": [
        "image_w , image_h = 128,128\n",
        "\n",
        "model = tf.keras.models.Sequential([\n",
        "  # RBG, because pineapple is yellow\n",
        "  tf.keras.layers.Conv2D(6, (2,2), activation='relu', input_shape=(image_h,image_w,3)),\n",
        "  tf.keras.layers.MaxPooling2D(2,2),\n",
        "  tf.keras.layers.Conv2D(8, (2,2), activation='relu'),\n",
        "  tf.keras.layers.MaxPooling2D(2,2), \n",
        "  tf.keras.layers.Conv2D(16, (2,2), activation='relu'), \n",
        "  tf.keras.layers.MaxPooling2D(2,2),  \n",
        "  tf.keras.layers.Conv2D(16, (2,2), activation='relu'), \n",
        "  tf.keras.layers.MaxPooling2D(2,2),\n",
        "  tf.keras.layers.Flatten(),\n",
        "  tf.keras.layers.Dense(512),\n",
        "  tf.keras.layers.Dense(258),\n",
        "  tf.keras.layers.Dense(128),\n",
        "  tf.keras.layers.Dropout(0.8), \n",
        "  tf.keras.layers.Dense(64),\n",
        "  tf.keras.layers.Dense(10),\n",
        "  tf.keras.layers.Dense(1,activation=\"sigmoid\"),\n",
        "])\n",
        "model.summary()\n",
        "# print(model.output_shape)\n",
        "model.compile(optimizer=tf.keras.optimizers.Adam(),\n",
        "          loss='binary_crossentropy',metrics=[\"accuracy\"])\n"
      ],
      "metadata": {
        "id": "fYfIY_CfRmF9"
      },
      "execution_count": null,
      "outputs": []
    },
    {
      "cell_type": "code",
      "source": [
        "!wget http://pizzagan.csail.mit.edu/pizzaGANdata.zip\n",
        "\n",
        "!unzip pizzaGANdata.zip"
      ],
      "metadata": {
        "id": "ZXmTFnkVToe2"
      },
      "execution_count": null,
      "outputs": []
    },
    {
      "cell_type": "code",
      "source": [
        "! mkdir not_pineapple\n",
        "! mkdir pineapple\n",
        "\n",
        "#  https://github.com/toppev/is-pineapple-pizza/blob/main/dataset/categorize.py\n",
        "import os\n",
        "from shutil import copyfile\n",
        "\n",
        "images = sorted(os.listdir(\"pizzaGANdata/images\"))\n",
        "\n",
        "max_images = 5000\n",
        "test_images = 50\n",
        "\n",
        "pineapples = 0\n",
        "not_pineapples = 0\n",
        "\n",
        "with open(\"pizzaGANdata/imageLabels.txt\") as f:\n",
        "    index = 0\n",
        "    for line in f:\n",
        "        index += 1\n",
        "\n",
        "        is_pineapple = line.endswith('1\\n')\n",
        "        target = 'not_pineapple/' + str(not_pineapples) + '.jpg'\n",
        "\n",
        "        if is_pineapple:\n",
        "            target = 'pineapple/' + str(pineapples) + '.jpg'\n",
        "            if pineapples >= max_images:\n",
        "                continue\n",
        "            pineapples += 1\n",
        "        else:\n",
        "            if not_pineapples >= max_images:\n",
        "                continue\n",
        "            not_pineapples += 1\n",
        "        if len(images) > index:\n",
        "            copyfile('pizzaGANdata/images/' + images[index - 1], target)\n",
        "\n",
        "print('Pineapples: ' + str(pineapples))\n",
        "print('Not pineapples: ' + str(not_pineapples))"
      ],
      "metadata": {
        "colab": {
          "base_uri": "https://localhost:8080/"
        },
        "id": "TY4NmOb6XgAa",
        "outputId": "c6861f47-d563-41b5-f39f-096bcf3d8d0f"
      },
      "execution_count": 8,
      "outputs": [
        {
          "output_type": "stream",
          "name": "stdout",
          "text": [
            "Pineapples: 83\n",
            "Not pineapples: 5000\n"
          ]
        }
      ]
    },
    {
      "cell_type": "code",
      "source": [
        "!cat pizzaGANdata/imageLabels.txt"
      ],
      "metadata": {
        "id": "WbCbseYyWnIj"
      },
      "execution_count": null,
      "outputs": []
    },
    {
      "cell_type": "code",
      "source": [
        "X = []\n",
        "Y = []"
      ],
      "metadata": {
        "id": "UTMeBCamWH6i"
      },
      "execution_count": 45,
      "outputs": []
    },
    {
      "cell_type": "code",
      "source": [
        "X"
      ],
      "metadata": {
        "id": "FEnbXNWVddp2"
      },
      "execution_count": null,
      "outputs": []
    },
    {
      "cell_type": "code",
      "source": [
        "import random\n",
        "not_pineapples_list = random.sample(os.listdir(\"not_pineapple\"),pineapples)\n",
        "pineapples_list = os.listdir(\"pineapple\")"
      ],
      "metadata": {
        "id": "LHRNwwvlWXaB"
      },
      "execution_count": 13,
      "outputs": []
    },
    {
      "cell_type": "code",
      "source": [
        "for i in not_pineapples_list:\n",
        "  X.append(np.array(Image.open(\"not_pineapple/\"+i).resize((128,128)).convert(\"RGB\")))\n",
        "  Y.append(0)"
      ],
      "metadata": {
        "id": "Hg7VwngCYKWu"
      },
      "execution_count": 46,
      "outputs": []
    },
    {
      "cell_type": "code",
      "source": [
        "for i in pineapples_list:\n",
        "  X.append(np.array(Image.open(\"pineapple/\"+i)))\n",
        "  Y.append(1)"
      ],
      "metadata": {
        "id": "UHYvP3EZa2zV"
      },
      "execution_count": 30,
      "outputs": []
    },
    {
      "cell_type": "code",
      "source": [
        "X = np.array(X)\n",
        "Y = np.array(Y)"
      ],
      "metadata": {
        "id": "2E57I6Jrc7mY"
      },
      "execution_count": 47,
      "outputs": []
    },
    {
      "cell_type": "code",
      "source": [
        "model.fit(X, Y, epochs=50, shuffle=True)"
      ],
      "metadata": {
        "colab": {
          "base_uri": "https://localhost:8080/",
          "height": 311
        },
        "id": "qxQHcBCpbJol",
        "outputId": "0a6cdcab-8e24-4d93-d95f-626d02162618"
      },
      "execution_count": 36,
      "outputs": [
        {
          "output_type": "error",
          "ename": "ValueError",
          "evalue": "ignored",
          "traceback": [
            "\u001b[0;31m---------------------------------------------------------------------------\u001b[0m",
            "\u001b[0;31mValueError\u001b[0m                                Traceback (most recent call last)",
            "\u001b[0;32m<ipython-input-36-53f8d565cd53>\u001b[0m in \u001b[0;36m<module>\u001b[0;34m()\u001b[0m\n\u001b[0;32m----> 1\u001b[0;31m \u001b[0mmodel\u001b[0m\u001b[0;34m.\u001b[0m\u001b[0mfit\u001b[0m\u001b[0;34m(\u001b[0m\u001b[0mX\u001b[0m\u001b[0;34m,\u001b[0m \u001b[0mY\u001b[0m\u001b[0;34m,\u001b[0m \u001b[0mepochs\u001b[0m\u001b[0;34m=\u001b[0m\u001b[0;36m50\u001b[0m\u001b[0;34m,\u001b[0m \u001b[0mshuffle\u001b[0m\u001b[0;34m=\u001b[0m\u001b[0;32mTrue\u001b[0m\u001b[0;34m)\u001b[0m\u001b[0;34m\u001b[0m\u001b[0;34m\u001b[0m\u001b[0m\n\u001b[0m",
            "\u001b[0;32m/usr/local/lib/python3.7/dist-packages/keras/utils/traceback_utils.py\u001b[0m in \u001b[0;36merror_handler\u001b[0;34m(*args, **kwargs)\u001b[0m\n\u001b[1;32m     65\u001b[0m     \u001b[0;32mexcept\u001b[0m \u001b[0mException\u001b[0m \u001b[0;32mas\u001b[0m \u001b[0me\u001b[0m\u001b[0;34m:\u001b[0m  \u001b[0;31m# pylint: disable=broad-except\u001b[0m\u001b[0;34m\u001b[0m\u001b[0;34m\u001b[0m\u001b[0m\n\u001b[1;32m     66\u001b[0m       \u001b[0mfiltered_tb\u001b[0m \u001b[0;34m=\u001b[0m \u001b[0m_process_traceback_frames\u001b[0m\u001b[0;34m(\u001b[0m\u001b[0me\u001b[0m\u001b[0;34m.\u001b[0m\u001b[0m__traceback__\u001b[0m\u001b[0;34m)\u001b[0m\u001b[0;34m\u001b[0m\u001b[0;34m\u001b[0m\u001b[0m\n\u001b[0;32m---> 67\u001b[0;31m       \u001b[0;32mraise\u001b[0m \u001b[0me\u001b[0m\u001b[0;34m.\u001b[0m\u001b[0mwith_traceback\u001b[0m\u001b[0;34m(\u001b[0m\u001b[0mfiltered_tb\u001b[0m\u001b[0;34m)\u001b[0m \u001b[0;32mfrom\u001b[0m \u001b[0;32mNone\u001b[0m\u001b[0;34m\u001b[0m\u001b[0;34m\u001b[0m\u001b[0m\n\u001b[0m\u001b[1;32m     68\u001b[0m     \u001b[0;32mfinally\u001b[0m\u001b[0;34m:\u001b[0m\u001b[0;34m\u001b[0m\u001b[0;34m\u001b[0m\u001b[0m\n\u001b[1;32m     69\u001b[0m       \u001b[0;32mdel\u001b[0m \u001b[0mfiltered_tb\u001b[0m\u001b[0;34m\u001b[0m\u001b[0;34m\u001b[0m\u001b[0m\n",
            "\u001b[0;32m/usr/local/lib/python3.7/dist-packages/tensorflow/python/framework/constant_op.py\u001b[0m in \u001b[0;36mconvert_to_eager_tensor\u001b[0;34m(value, ctx, dtype)\u001b[0m\n\u001b[1;32m    100\u001b[0m       \u001b[0mdtype\u001b[0m \u001b[0;34m=\u001b[0m \u001b[0mdtypes\u001b[0m\u001b[0;34m.\u001b[0m\u001b[0mas_dtype\u001b[0m\u001b[0;34m(\u001b[0m\u001b[0mdtype\u001b[0m\u001b[0;34m)\u001b[0m\u001b[0;34m.\u001b[0m\u001b[0mas_datatype_enum\u001b[0m\u001b[0;34m\u001b[0m\u001b[0;34m\u001b[0m\u001b[0m\n\u001b[1;32m    101\u001b[0m   \u001b[0mctx\u001b[0m\u001b[0;34m.\u001b[0m\u001b[0mensure_initialized\u001b[0m\u001b[0;34m(\u001b[0m\u001b[0;34m)\u001b[0m\u001b[0;34m\u001b[0m\u001b[0;34m\u001b[0m\u001b[0m\n\u001b[0;32m--> 102\u001b[0;31m   \u001b[0;32mreturn\u001b[0m \u001b[0mops\u001b[0m\u001b[0;34m.\u001b[0m\u001b[0mEagerTensor\u001b[0m\u001b[0;34m(\u001b[0m\u001b[0mvalue\u001b[0m\u001b[0;34m,\u001b[0m \u001b[0mctx\u001b[0m\u001b[0;34m.\u001b[0m\u001b[0mdevice_name\u001b[0m\u001b[0;34m,\u001b[0m \u001b[0mdtype\u001b[0m\u001b[0;34m)\u001b[0m\u001b[0;34m\u001b[0m\u001b[0;34m\u001b[0m\u001b[0m\n\u001b[0m\u001b[1;32m    103\u001b[0m \u001b[0;34m\u001b[0m\u001b[0m\n\u001b[1;32m    104\u001b[0m \u001b[0;34m\u001b[0m\u001b[0m\n",
            "\u001b[0;31mValueError\u001b[0m: Failed to convert a NumPy array to a Tensor (Unsupported object type numpy.ndarray)."
          ]
        }
      ]
    }
  ]
}